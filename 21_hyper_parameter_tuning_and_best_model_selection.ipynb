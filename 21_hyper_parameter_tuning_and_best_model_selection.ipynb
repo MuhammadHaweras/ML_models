{
 "cells": [
  {
   "cell_type": "markdown",
   "metadata": {},
   "source": [
    "# Selecting the Best model with Best Hyperparameters"
   ]
  },
  {
   "cell_type": "markdown",
   "metadata": {},
   "source": [
    "<h3> Importing Libraries </h3>"
   ]
  },
  {
   "cell_type": "code",
   "execution_count": 2,
   "metadata": {},
   "outputs": [],
   "source": [
    "import pandas as pd\n",
    "import numpy as np\n",
    "import matplotlib.pyplot as plt\n",
    "import seaborn as sns\n",
    "\n",
    "from sklearn.model_selection import train_test_split\n",
    "from sklearn.preprocessing import LabelEncoder, StandardScaler, MinMaxScaler\n",
    "\n",
    "from sklearn.linear_model import LinearRegression\n",
    "from sklearn.svm import SVR\n",
    "from sklearn.tree import DecisionTreeRegressor\n",
    "from sklearn.ensemble import RandomForestRegressor\n",
    "from sklearn.ensemble import GradientBoostingRegressor\n",
    "from sklearn.neighbors import KNeighborsRegressor\n",
    "from xgboost import XGBRegressor\n",
    "\n",
    "from sklearn.metrics import mean_squared_error, mean_absolute_error, r2_score\n",
    "\n",
    "from sklearn.model_selection import GridSearchCV\n",
    "from sklearn.compose import  ColumnTransformer\n",
    "from sklearn.pipeline import Pipeline"
   ]
  },
  {
   "cell_type": "markdown",
   "metadata": {},
   "source": [
    "<h3> Load  Dataset </h3>"
   ]
  },
  {
   "cell_type": "code",
   "execution_count": 3,
   "metadata": {},
   "outputs": [
    {
     "data": {
      "application/vnd.microsoft.datawrangler.viewer.v0+json": {
       "columns": [
        {
         "name": "index",
         "rawType": "int64",
         "type": "integer"
        },
        {
         "name": "total_bill",
         "rawType": "float64",
         "type": "float"
        },
        {
         "name": "tip",
         "rawType": "float64",
         "type": "float"
        },
        {
         "name": "sex",
         "rawType": "category",
         "type": "unknown"
        },
        {
         "name": "smoker",
         "rawType": "category",
         "type": "unknown"
        },
        {
         "name": "day",
         "rawType": "category",
         "type": "unknown"
        },
        {
         "name": "time",
         "rawType": "category",
         "type": "unknown"
        },
        {
         "name": "size",
         "rawType": "int64",
         "type": "integer"
        }
       ],
       "conversionMethod": "pd.DataFrame",
       "ref": "795ed053-7ab3-4b52-b126-4f14f0ce976e",
       "rows": [
        [
         "0",
         "16.99",
         "1.01",
         "Female",
         "No",
         "Sun",
         "Dinner",
         "2"
        ],
        [
         "1",
         "10.34",
         "1.66",
         "Male",
         "No",
         "Sun",
         "Dinner",
         "3"
        ],
        [
         "2",
         "21.01",
         "3.5",
         "Male",
         "No",
         "Sun",
         "Dinner",
         "3"
        ],
        [
         "3",
         "23.68",
         "3.31",
         "Male",
         "No",
         "Sun",
         "Dinner",
         "2"
        ],
        [
         "4",
         "24.59",
         "3.61",
         "Female",
         "No",
         "Sun",
         "Dinner",
         "4"
        ]
       ],
       "shape": {
        "columns": 7,
        "rows": 5
       }
      },
      "text/html": [
       "<div>\n",
       "<style scoped>\n",
       "    .dataframe tbody tr th:only-of-type {\n",
       "        vertical-align: middle;\n",
       "    }\n",
       "\n",
       "    .dataframe tbody tr th {\n",
       "        vertical-align: top;\n",
       "    }\n",
       "\n",
       "    .dataframe thead th {\n",
       "        text-align: right;\n",
       "    }\n",
       "</style>\n",
       "<table border=\"1\" class=\"dataframe\">\n",
       "  <thead>\n",
       "    <tr style=\"text-align: right;\">\n",
       "      <th></th>\n",
       "      <th>total_bill</th>\n",
       "      <th>tip</th>\n",
       "      <th>sex</th>\n",
       "      <th>smoker</th>\n",
       "      <th>day</th>\n",
       "      <th>time</th>\n",
       "      <th>size</th>\n",
       "    </tr>\n",
       "  </thead>\n",
       "  <tbody>\n",
       "    <tr>\n",
       "      <th>0</th>\n",
       "      <td>16.99</td>\n",
       "      <td>1.01</td>\n",
       "      <td>Female</td>\n",
       "      <td>No</td>\n",
       "      <td>Sun</td>\n",
       "      <td>Dinner</td>\n",
       "      <td>2</td>\n",
       "    </tr>\n",
       "    <tr>\n",
       "      <th>1</th>\n",
       "      <td>10.34</td>\n",
       "      <td>1.66</td>\n",
       "      <td>Male</td>\n",
       "      <td>No</td>\n",
       "      <td>Sun</td>\n",
       "      <td>Dinner</td>\n",
       "      <td>3</td>\n",
       "    </tr>\n",
       "    <tr>\n",
       "      <th>2</th>\n",
       "      <td>21.01</td>\n",
       "      <td>3.50</td>\n",
       "      <td>Male</td>\n",
       "      <td>No</td>\n",
       "      <td>Sun</td>\n",
       "      <td>Dinner</td>\n",
       "      <td>3</td>\n",
       "    </tr>\n",
       "    <tr>\n",
       "      <th>3</th>\n",
       "      <td>23.68</td>\n",
       "      <td>3.31</td>\n",
       "      <td>Male</td>\n",
       "      <td>No</td>\n",
       "      <td>Sun</td>\n",
       "      <td>Dinner</td>\n",
       "      <td>2</td>\n",
       "    </tr>\n",
       "    <tr>\n",
       "      <th>4</th>\n",
       "      <td>24.59</td>\n",
       "      <td>3.61</td>\n",
       "      <td>Female</td>\n",
       "      <td>No</td>\n",
       "      <td>Sun</td>\n",
       "      <td>Dinner</td>\n",
       "      <td>4</td>\n",
       "    </tr>\n",
       "  </tbody>\n",
       "</table>\n",
       "</div>"
      ],
      "text/plain": [
       "   total_bill   tip     sex smoker  day    time  size\n",
       "0       16.99  1.01  Female     No  Sun  Dinner     2\n",
       "1       10.34  1.66    Male     No  Sun  Dinner     3\n",
       "2       21.01  3.50    Male     No  Sun  Dinner     3\n",
       "3       23.68  3.31    Male     No  Sun  Dinner     2\n",
       "4       24.59  3.61  Female     No  Sun  Dinner     4"
      ]
     },
     "execution_count": 3,
     "metadata": {},
     "output_type": "execute_result"
    }
   ],
   "source": [
    "df = sns.load_dataset('tips')\n",
    "df.head()"
   ]
  },
  {
   "cell_type": "markdown",
   "metadata": {},
   "source": [
    "<h3> Best Model Selection with Best Hyperparameters"
   ]
  },
  {
   "cell_type": "code",
   "execution_count": 4,
   "metadata": {},
   "outputs": [
    {
     "name": "stdout",
     "output_type": "stream",
     "text": [
      "<class 'pandas.core.frame.DataFrame'>\n",
      "RangeIndex: 244 entries, 0 to 243\n",
      "Data columns (total 7 columns):\n",
      " #   Column      Non-Null Count  Dtype   \n",
      "---  ------      --------------  -----   \n",
      " 0   total_bill  244 non-null    float64 \n",
      " 1   tip         244 non-null    float64 \n",
      " 2   sex         244 non-null    category\n",
      " 3   smoker      244 non-null    category\n",
      " 4   day         244 non-null    category\n",
      " 5   time        244 non-null    category\n",
      " 6   size        244 non-null    int64   \n",
      "dtypes: category(4), float64(2), int64(1)\n",
      "memory usage: 7.4 KB\n"
     ]
    }
   ],
   "source": [
    "df.info()"
   ]
  },
  {
   "cell_type": "code",
   "execution_count": 5,
   "metadata": {},
   "outputs": [],
   "source": [
    "# Separate the features (X) and target variable (y)\n",
    "X = df.drop(columns=['total_bill', 'tip'])  # Drop 'total_bill' and 'tip' columns from features\n",
    "y = df['tip']  # Target variable is 'tip'\n",
    "\n",
    "# Encode categorical columns into numerical values\n",
    "le = LabelEncoder()\n",
    "X['sex'] = le.fit_transform(X['sex'])\n",
    "X['smoker'] = le.fit_transform(X['smoker'])\n",
    "X['day'] = le.fit_transform(X['day'])\n",
    "X['time'] = le.fit_transform(X['time'])"
   ]
  },
  {
   "cell_type": "code",
   "execution_count": 6,
   "metadata": {},
   "outputs": [],
   "source": [
    "models = {\n",
    "    \"Linear Regression\": LinearRegression(),\n",
    "    \"Support Vector Regressor\": SVR(),\n",
    "    \"Decision Tree Regressor\": DecisionTreeRegressor(),\n",
    "    \"Random Forest Regressor\": RandomForestRegressor(),\n",
    "    \"Gradient Boosting Regressor\": GradientBoostingRegressor(),\n",
    "    \"K-Neighbors Regressor\": KNeighborsRegressor(),\n",
    "    \"XGBoost Regressor\": XGBRegressor()\n",
    "}"
   ]
  },
  {
   "cell_type": "code",
   "execution_count": null,
   "metadata": {},
   "outputs": [
    {
     "name": "stdout",
     "output_type": "stream",
     "text": [
      "Model: Linear Regression\n",
      "Mean Squared Error (MSE): 1.1055\n",
      "Mean Absolute Error (MAE): 0.8633\n",
      "R-squared (R²): 0.1156\n",
      "------------------------------\n",
      "Model: Support Vector Regressor\n",
      "Mean Squared Error (MSE): 1.1170\n",
      "Mean Absolute Error (MAE): 0.8613\n",
      "R-squared (R²): 0.1064\n",
      "------------------------------\n",
      "Model: Decision Tree Regressor\n",
      "Mean Squared Error (MSE): 1.7598\n",
      "Mean Absolute Error (MAE): 1.0440\n",
      "R-squared (R²): -0.4079\n",
      "------------------------------\n",
      "Model: Random Forest Regressor\n",
      "Mean Squared Error (MSE): 1.6475\n",
      "Mean Absolute Error (MAE): 1.0212\n",
      "R-squared (R²): -0.3180\n",
      "------------------------------\n",
      "Model: Gradient Boosting Regressor\n",
      "Mean Squared Error (MSE): 1.5743\n",
      "Mean Absolute Error (MAE): 1.0290\n",
      "R-squared (R²): -0.2594\n",
      "------------------------------\n",
      "Model: K-Neighbors Regressor\n",
      "Mean Squared Error (MSE): 1.5051\n",
      "Mean Absolute Error (MAE): 0.9742\n",
      "R-squared (R²): -0.2041\n",
      "------------------------------\n",
      "Model: XGBoost Regressor\n",
      "Mean Squared Error (MSE): 1.7150\n",
      "Mean Absolute Error (MAE): 1.0437\n",
      "R-squared (R²): -0.3720\n",
      "------------------------------\n",
      "Best Model: Decision Tree Regressor\n",
      "Metrics: {'MSE': 1.759822562000117, 'MAE': 1.0440396576212903, 'R2': -0.4078903237706144}\n"
     ]
    }
   ],
   "source": [
    "# Split the dataset into training and testing sets\n",
    "X_train, X_test, y_train, y_test = train_test_split(X, y, test_size=0.2, random_state=42)\n",
    "\n",
    "# Dictionary to store evaluation metrics for each model\n",
    "model_metrics = {}\n",
    "\n",
    "# Evaluate each model\n",
    "for model_name, model in models.items():\n",
    "    # Fit the model on the training data\n",
    "    model.fit(X_train, y_train)\n",
    "    \n",
    "    # Predict on the test data\n",
    "    y_pred = model.predict(X_test)\n",
    "    \n",
    "    # Calculate evaluation metrics\n",
    "    mse = mean_squared_error(y_test, y_pred)\n",
    "    mae = mean_absolute_error(y_test, y_pred)\n",
    "    r2 = r2_score(y_test, y_pred)\n",
    "    \n",
    "    # Store the metrics\n",
    "    model_metrics[model_name] = {\"MSE\": mse, \"MAE\": mae, \"R2\": r2}\n",
    "    \n",
    "    # Print the metrics\n",
    "    print(f\"Model: {model_name}\")\n",
    "    print(f\"Mean Squared Error (MSE): {mse:.4f}\")\n",
    "    print(f\"Mean Absolute Error (MAE): {mae:.4f}\")\n",
    "    print(f\"R-squared (R²): {r2:.4f}\")\n",
    "    print(\"-\" * 30)\n",
    "\n",
    "# Find the best model based on Mean Absolute Error\n",
    "best_model = max(model_metrics, key=lambda x: model_metrics[x][\"MAE\"])\n",
    "print(f\"Best Model: {best_model}\")\n",
    "print(f\"Metrics: {model_metrics[best_model]}\")"
   ]
  },
  {
   "cell_type": "markdown",
   "metadata": {},
   "source": [
    "<h2> Hyperparameter Tuning"
   ]
  },
  {
   "cell_type": "code",
   "execution_count": 8,
   "metadata": {},
   "outputs": [],
   "source": [
    "param_grid = {\n",
    "    \"Linear Regression\": {\n",
    "        \"model\": LinearRegression(),\n",
    "        \"params\": {}\n",
    "    },\n",
    "    \"Support Vector Regressor\": {\n",
    "        \"model\": SVR(),\n",
    "        \"params\": {\n",
    "            \"kernel\": [\"linear\", \"poly\", \"rbf\", \"sigmoid\"],\n",
    "            \"C\": [0.1, 1, 10]\n",
    "        }\n",
    "    },\n",
    "    \"Decision Tree Regressor\": {\n",
    "        \"model\": DecisionTreeRegressor(),\n",
    "        \"params\": {\n",
    "            \"criterion\": [\"squared_error\", \"friedman_mse\", \"absolute_error\"],\n",
    "            \"max_depth\": [None, 10, 20, 30],\n",
    "            \"min_samples_split\": [2, 5, 10]\n",
    "        }\n",
    "    },\n",
    "    \"Random Forest Regressor\": {\n",
    "        \"model\": RandomForestRegressor(),\n",
    "        \"params\": {\n",
    "            \"n_estimators\": [50, 100, 200],\n",
    "            \"max_depth\": [None, 10, 20, 30],\n",
    "            \"min_samples_split\": [2, 5, 10]\n",
    "        }\n",
    "    },\n",
    "    \"Gradient Boosting Regressor\": {\n",
    "        \"model\": GradientBoostingRegressor(),\n",
    "        \"params\": {\n",
    "            \"n_estimators\": [50, 100, 200],\n",
    "            \"learning_rate\": [0.01, 0.1, 0.2],\n",
    "            \"max_depth\": [3, 5, 10]\n",
    "        }\n",
    "    },\n",
    "    \"K-Neighbors Regressor\": {\n",
    "        \"model\": KNeighborsRegressor(),\n",
    "        \"params\": {\n",
    "            \"n_neighbors\": [3, 5, 7],\n",
    "            \"weights\": [\"uniform\", \"distance\"],\n",
    "            \"algorithm\": [\"auto\", \"kd_tree\", \"brute\"]\n",
    "        }\n",
    "    },\n",
    "    \"XGBoost Regressor\": {\n",
    "        \"model\": XGBRegressor(),\n",
    "        \"params\": {\n",
    "            \"n_estimators\": [50, 100, 200],\n",
    "            \"learning_rate\": [0.01, 0.1, 0.2],\n",
    "            \"max_depth\": [3, 5, 10]\n",
    "        }\n",
    "    }\n",
    "}"
   ]
  },
  {
   "cell_type": "code",
   "execution_count": null,
   "metadata": {},
   "outputs": [
    {
     "name": "stdout",
     "output_type": "stream",
     "text": [
      "Model: Linear Regression\n",
      "Mean Squared Error (MSE): 1.1055\n",
      "Mean Absolute Error (MAE): 0.8633\n",
      "R-squared (R²): 0.1156\n",
      "Best Parameters: {}\n",
      "------------------------------\n",
      "Model: Support Vector Regressor\n",
      "Mean Squared Error (MSE): 0.9723\n",
      "Mean Absolute Error (MAE): 0.8222\n",
      "R-squared (R²): 0.2222\n",
      "Best Parameters: {'C': 0.1, 'kernel': 'linear'}\n",
      "------------------------------\n",
      "Model: Decision Tree Regressor\n",
      "Mean Squared Error (MSE): 1.5998\n",
      "Mean Absolute Error (MAE): 0.9990\n",
      "R-squared (R²): -0.2798\n",
      "Best Parameters: {'criterion': 'squared_error', 'max_depth': None, 'min_samples_split': 10}\n",
      "------------------------------\n",
      "Model: Random Forest Regressor\n",
      "Mean Squared Error (MSE): 1.5368\n",
      "Mean Absolute Error (MAE): 0.9968\n",
      "R-squared (R²): -0.2295\n",
      "Best Parameters: {'max_depth': 10, 'min_samples_split': 10, 'n_estimators': 200}\n",
      "------------------------------\n",
      "Model: Gradient Boosting Regressor\n",
      "Mean Squared Error (MSE): 1.2411\n",
      "Mean Absolute Error (MAE): 0.9501\n",
      "R-squared (R²): 0.0071\n",
      "Best Parameters: {'learning_rate': 0.01, 'max_depth': 3, 'n_estimators': 100}\n",
      "------------------------------\n",
      "Model: K-Neighbors Regressor\n",
      "Mean Squared Error (MSE): 1.3634\n",
      "Mean Absolute Error (MAE): 0.9412\n",
      "R-squared (R²): -0.0907\n",
      "Best Parameters: {'algorithm': 'auto', 'n_neighbors': 7, 'weights': 'uniform'}\n",
      "------------------------------\n",
      "Model: XGBoost Regressor\n",
      "Mean Squared Error (MSE): 1.2808\n",
      "Mean Absolute Error (MAE): 0.9722\n",
      "R-squared (R²): -0.0246\n",
      "Best Parameters: {'learning_rate': 0.01, 'max_depth': 3, 'n_estimators': 100}\n",
      "------------------------------\n",
      "Best Model: Decision Tree Regressor\n",
      "Metrics: {'MSE': 1.5997631170675146, 'MAE': 0.9990266190725374, 'R2': -0.2798398324230149, 'Best Parameters': {'criterion': 'squared_error', 'max_depth': None, 'min_samples_split': 10}}\n"
     ]
    }
   ],
   "source": [
    "# Dictionary to store evaluation metrics and best parameters for each model\n",
    "model_results = {}\n",
    "\n",
    "# Evaluate each model\n",
    "for model_name, config in param_grid.items():\n",
    "    model = config[\"model\"]\n",
    "    params = config[\"params\"]\n",
    "    \n",
    "    # Perform GridSearchCV\n",
    "    pipeline = GridSearchCV(model, params, cv=5)\n",
    "    pipeline.fit(X_train, y_train)\n",
    "    \n",
    "    # Predict on the test data\n",
    "    y_pred = pipeline.predict(X_test)\n",
    "    \n",
    "    # Calculate evaluation metrics\n",
    "    mse = mean_squared_error(y_test, y_pred)\n",
    "    mae = mean_absolute_error(y_test, y_pred)\n",
    "    r2 = r2_score(y_test, y_pred)\n",
    "    \n",
    "    # Store the metrics and best parameters\n",
    "    model_results[model_name] = {\n",
    "        \"MSE\": mse,\n",
    "        \"MAE\": mae,\n",
    "        \"R2\": r2,\n",
    "        \"Best Parameters\": pipeline.best_params_\n",
    "    }\n",
    "    \n",
    "    # Print the metrics and best parameters\n",
    "    print(f\"Model: {model_name}\")\n",
    "    print(f\"Mean Squared Error (MSE): {mse:.4f}\")\n",
    "    print(f\"Mean Absolute Error (MAE): {mae:.4f}\")\n",
    "    print(f\"R-squared (R²): {r2:.4f}\")\n",
    "    print(f\"Best Parameters: {pipeline.best_params_}\")\n",
    "    print(\"-\" * 30)\n",
    "\n",
    "# Find the best model based on Mean Absolute Error\n",
    "best_model_name = max(model_results, key=lambda x: model_results[x][\"MAE\"])\n",
    "best_model_info = model_results[best_model_name]\n",
    "\n",
    "print(f\"Best Model: {best_model_name}\")\n",
    "print(f\"Metrics: {best_model_info}\")"
   ]
  }
 ],
 "metadata": {
  "kernelspec": {
   "display_name": "ml_ai",
   "language": "python",
   "name": "python3"
  },
  "language_info": {
   "codemirror_mode": {
    "name": "ipython",
    "version": 3
   },
   "file_extension": ".py",
   "mimetype": "text/x-python",
   "name": "python",
   "nbconvert_exporter": "python",
   "pygments_lexer": "ipython3",
   "version": "3.12.9"
  }
 },
 "nbformat": 4,
 "nbformat_minor": 2
}
